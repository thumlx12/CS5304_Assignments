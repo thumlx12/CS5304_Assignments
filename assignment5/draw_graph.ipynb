{
 "cells": [
  {
   "cell_type": "code",
   "execution_count": 1,
   "metadata": {
    "collapsed": true
   },
   "outputs": [],
   "source": [
    "import numpy as np\n",
    "import matplotlib.pyplot as plt"
   ]
  },
  {
   "cell_type": "code",
   "execution_count": 22,
   "metadata": {
    "collapsed": true
   },
   "outputs": [],
   "source": [
    "def getData(file):\n",
    "    with open(file) as f:\n",
    "        epoch = []\n",
    "        loss = []\n",
    "        for line in f:\n",
    "            line_split = line.split('\\t')\n",
    "            l = int(line_split[0])\n",
    "            acc = float(line_split[1]) \n",
    "            epoch.append(l)\n",
    "            loss.append(acc)\n",
    "    return [epoch, loss]"
   ]
  },
  {
   "cell_type": "code",
   "execution_count": 50,
   "metadata": {
    "collapsed": true
   },
   "outputs": [],
   "source": [
    "total = getData('tmp2')\n",
    "s1 = [total[0][:50], total[1][:50]]\n",
    "s2 = [total[0][50:100], total[1][50:100]]\n",
    "s3 = [total[0][100:150], total[1][100:150]]"
   ]
  },
  {
   "cell_type": "code",
   "execution_count": 51,
   "metadata": {},
   "outputs": [
    {
     "data": {
      "image/png": "[encoded data removed]",
      "text/plain": [
       "<matplotlib.figure.Figure at 0x114b75198>"
      ]
     },
     "metadata": {},
     "output_type": "display_data"
    }
   ],
   "source": [
    "pic_name = 'r5_train_with_bias'\n",
    "fig = plt.figure()\n",
    "plt.plot(s1[0],s1[1],marker='*')\n",
    "plt.plot(s2[0],s2[1],marker='+')\n",
    "plt.plot(s3[0],s3[1],marker='o')\n",
    "plt.title(pic_name)\n",
    "plt.xlabel('epoch')\n",
    "plt.ylabel('MSE loss')\n",
    "plt.legend(['lamda=0.001','lamda=0.01', 'lamda=0.1'])\n",
    "plt.show()\n",
    "fig.savefig(pic_name+'.png',dpi = 150)"
   ]
  },
  {
   "cell_type": "code",
   "execution_count": 74,
   "metadata": {},
   "outputs": [],
   "source": [
    "from PIL import Image\n",
    "file_name = 'r5_train_with_bias.png'\n",
    "img = Image.open(file_name)\n",
    "width,height = img.size\n",
    "new_height = 400\n",
    "new_width  = int(new_height * width / height)\n",
    "img = img.resize((new_width, new_height), Image.ANTIALIAS)\n",
    "img.save(file_name)"
   ]
  },
  {
   "cell_type": "code",
   "execution_count": null,
   "metadata": {
    "collapsed": true
   },
   "outputs": [],
   "source": []
  }
 ],
 "metadata": {
  "kernelspec": {
   "display_name": "Python 3",
   "language": "python",
   "name": "python3"
  },
  "language_info": {
   "codemirror_mode": {
    "name": "ipython",
    "version": 3
   },
   "file_extension": ".py",
   "mimetype": "text/x-python",
   "name": "python",
   "nbconvert_exporter": "python",
   "pygments_lexer": "ipython3",
   "version": "3.6.3"
  }
 },
 "nbformat": 4,
 "nbformat_minor": 2
}
